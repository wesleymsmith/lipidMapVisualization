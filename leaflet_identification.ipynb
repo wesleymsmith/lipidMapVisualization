{
 "cells": [
  {
   "cell_type": "code",
   "execution_count": null,
   "metadata": {},
   "outputs": [],
   "source": [
    "import pytraj as pt\n",
    "import pytraj.utils.progress\n",
    "import numpy as np\n",
    "import scipy as sp\n",
    "import matplotlib\n",
    "from matplotlib import pyplot as plt\n",
    "import ggplot\n",
    "import collections\n",
    "import sys\n",
    "import gc\n",
    "import os\n",
    "import sklearn as skl\n",
    "from sklearn import decomposition\n",
    "from sklearn import metrics\n",
    "from sklearn import discriminant_analysis\n",
    "from sklearn import cluster\n",
    "import tqdm\n",
    "import nglview as nv\n",
    "import ipywidgets\n",
    "import copy\n",
    "\n",
    "from ipywidgets import interact, interactive, fixed, interact_manual\n",
    "import ipywidgets as widgets"
   ]
  }
 ],
 "metadata": {
  "kernelspec": {
   "display_name": "Python 2",
   "language": "python",
   "name": "python2"
  },
  "language_info": {
   "codemirror_mode": {
    "name": "ipython",
    "version": 2
   },
   "file_extension": ".py",
   "mimetype": "text/x-python",
   "name": "python",
   "nbconvert_exporter": "python",
   "pygments_lexer": "ipython2",
   "version": "2.7.16"
  }
 },
 "nbformat": 4,
 "nbformat_minor": 2
}
