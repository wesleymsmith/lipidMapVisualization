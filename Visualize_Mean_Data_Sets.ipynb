{
 "cells": [
  {
   "cell_type": "code",
   "execution_count": 1,
   "metadata": {},
   "outputs": [],
   "source": [
    "import numpy as np\n",
    "import scipy as sp\n",
    "import matplotlib\n",
    "from matplotlib import pyplot as plt\n",
    "import collections\n",
    "import sys\n",
    "import gc\n",
    "import os\n",
    "import sklearn as skl\n",
    "from sklearn import decomposition\n",
    "from sklearn import metrics\n",
    "from sklearn import discriminant_analysis\n",
    "from sklearn import cluster\n",
    "import tqdm\n",
    "import ipywidgets\n",
    "import copy\n",
    "\n",
    "from ipywidgets import interact, interactive, fixed, interact_manual, interactive_output\n",
    "import ipywidgets as widgets"
   ]
  },
  {
   "cell_type": "code",
   "execution_count": 2,
   "metadata": {},
   "outputs": [
    {
     "data": {
      "application/vnd.jupyter.widget-view+json": {
       "model_id": "63f8d4c3cad9474b8668923972d73c47",
       "version_major": 2,
       "version_minor": 0
      },
      "text/plain": [
       "Text(value=u'Key1', description=u'Dictionary_Entry_Key', placeholder=u'Entery Dictionary Key Name')"
      ]
     },
     "metadata": {},
     "output_type": "display_data"
    },
    {
     "data": {
      "application/vnd.jupyter.widget-view+json": {
       "model_id": "5db8ff83332f4b048e27b6182aca675c",
       "version_major": 2,
       "version_minor": 0
      },
      "text/plain": [
       "FloatText(value=0.0, description=u'Dictionary_Entry_Value')"
      ]
     },
     "metadata": {},
     "output_type": "display_data"
    },
    {
     "data": {
      "application/vnd.jupyter.widget-view+json": {
       "model_id": "e4c5111f8d114562a0c58ca8e74bc318",
       "version_major": 2,
       "version_minor": 0
      },
      "text/plain": [
       "Button(description=u'Submit_Entry', style=ButtonStyle())"
      ]
     },
     "metadata": {},
     "output_type": "display_data"
    },
    {
     "data": {
      "application/vnd.jupyter.widget-view+json": {
       "model_id": "bf63f84137ff4b4886b0084ca01410ed",
       "version_major": 2,
       "version_minor": 0
      },
      "text/plain": [
       "Button(description=u'Remove_Entry', style=ButtonStyle())"
      ]
     },
     "metadata": {},
     "output_type": "display_data"
    },
    {
     "data": {
      "application/vnd.jupyter.widget-view+json": {
       "model_id": "b49fe3db3c434112873d9220c9783e4d",
       "version_major": 2,
       "version_minor": 0
      },
      "text/plain": [
       "Output(layout=Layout(border=u'1px solid black'))"
      ]
     },
     "metadata": {},
     "output_type": "display_data"
    }
   ],
   "source": [
    "dict_data={}\n",
    "\n",
    "\n",
    "keyTextBox=widgets.Text(description=\"Dictionary_Entry_Key\",\n",
    "                     value='Key1',\n",
    "                     placeholder='Entery Dictionary Key Name')\n",
    "valueTextBox=widgets.FloatText(description=\"Dictionary_Entry_Value\",\n",
    "                               placeholder='Enter numeric dictionary entry value',\n",
    "                               value=0.0)\n",
    "submitButton=widgets.Button(description=\"Submit_Entry\")\n",
    "\n",
    "deleteButton=widgets.Button(description=\"Remove_Entry\")\n",
    "\n",
    "out=widgets.Output(layout={'border': '1px solid black'})\n",
    "\n",
    "def submit_entry(*args):\n",
    "    dict_data[keyTextBox.value]=valueTextBox.value\n",
    "    show_dict_data()\n",
    "    \n",
    "submitButton.on_click(submit_entry)\n",
    "\n",
    "def delete_entry(*args):\n",
    "    if keyTextBox.value in dict_data:\n",
    "        del dict_data[keyTextBox.value]\n",
    "        show_dict_data()\n",
    "\n",
    "deleteButton.on_click(delete_entry)\n",
    "        \n",
    "def show_dict_data():\n",
    "    out.clear_output()\n",
    "    with out:\n",
    "        print dict_data\n",
    "    \n",
    "controlPannelDict={'entryKeyBox':keyTextBox, 'entryValueBox':valueTextBox,\n",
    "               'submit_button':submitButton}\n",
    "#dispOut=interactive_output(show_dict_data,controlPannelDict)\n",
    "#with out:\n",
    "display(keyTextBox,valueTextBox,submitButton,deleteButton,out)"
   ]
  },
  {
   "cell_type": "code",
   "execution_count": 3,
   "metadata": {},
   "outputs": [
    {
     "name": "stdout",
     "output_type": "stream",
     "text": [
      "The following mean data files were located: ['PIP2.meanUpperHeight.txt', 'PIP2.meanUpperDensity.txt', 'POPC.meanUpperDensity.txt', 'POPS.meanUpperDensity.txt', 'PIP2.meanLowerHeight.txt', 'POPS.meanLowerDensity.txt', 'POPS.meanUpperHeight.txt', 'POPC.meanUpperHeight.txt', 'POPC.meanLowerDensity.txt', 'POPS.meanLowerHeight.txt', 'PIP2.meanLowerDensity.txt', 'POPC.meanLowerHeight.txt']\n",
      "\n",
      "---- ---- ---- ----\n",
      "\n",
      "loading mean data files:\n",
      "PIP2.UpperHeight   [235 x 233; value range=(97.908477,109.895698)]\n",
      "PIP2.UpperDensity  [235 x 233; value range=(0.000000,0.000045)]\n",
      "POPC.UpperDensity  [230 x 229; value range=(0.000000,0.000048)]\n",
      "POPS.UpperDensity  [232 x 233; value range=(0.000000,0.000037)]\n",
      "PIP2.LowerHeight   [235 x 233; value range=(61.440388,72.951450)]\n",
      "POPS.LowerDensity  [232 x 233; value range=(0.000000,0.000056)]\n",
      "POPS.UpperHeight   [232 x 233; value range=(95.570330,106.419144)]\n",
      "POPC.UpperHeight   [230 x 229; value range=(101.543684,112.623104)]\n",
      "POPC.LowerDensity  [230 x 229; value range=(0.000000,0.000060)]\n",
      "POPS.LowerHeight   [232 x 233; value range=(58.834376,69.617380)]\n",
      "PIP2.LowerDensity  [235 x 233; value range=(0.000000,0.000049)]\n",
      "POPC.LowerHeight   [230 x 229; value range=(65.018333,75.993617)]\n",
      "\n",
      "---- ---- ---- ----\n",
      "System names: ['PIP2' 'POPC' 'POPS']\n",
      "Mean Data Set types: ['LowerDensity' 'LowerHeight' 'UpperDensity' 'UpperHeight']\n",
      "\n",
      "---- ---- ---- ----\n",
      "\n",
      "loading X and Y grids:\n",
      "PIP2.gridX         [235 x 233; coordinate range=(  -2.964, 229.036)]\n",
      "PIP2.gridY         [235 x 233; coordinate range=(  -3.719, 230.281)]\n",
      "POPC.gridX         [230 x 229; coordinate range=(  -7.136, 220.864)]\n",
      "POPC.gridY         [230 x 229; coordinate range=(  -5.755, 223.245)]\n",
      "POPS.gridX         [232 x 233; coordinate range=(  -7.347, 224.653)]\n",
      "POPS.gridY         [232 x 233; coordinate range=(  -5.056, 225.944)]\n",
      "\n",
      "---- ---- ---- ----\n",
      "\n",
      "Mean Data Dictionary Keys: ['PIP2.LowerDensity' 'PIP2.LowerHeight' 'PIP2.UpperDensity'\n",
      " 'PIP2.UpperHeight' 'POPC.LowerDensity' 'POPC.LowerHeight'\n",
      " 'POPC.UpperDensity' 'POPC.UpperHeight' 'POPS.LowerDensity'\n",
      " 'POPS.LowerHeight' 'POPS.UpperDensity' 'POPS.UpperHeight']\n",
      "Grid Dictionary Keys: ['PIP2.gridX' 'PIP2.gridY' 'POPC.gridX' 'POPC.gridY' 'POPS.gridX'\n",
      " 'POPS.gridY']\n"
     ]
    }
   ],
   "source": [
    "dataDir='dataFiles'\n",
    "\n",
    "fileList=os.listdir(dataDir)\n",
    "\n",
    "meanDataFiles=[dataFile for dataFile in fileList if 'mean' in dataFile]\n",
    "\n",
    "print 'The following mean data files were located:',\n",
    "print meanDataFiles\n",
    "print ''\n",
    "print '---- ---- ---- ----'\n",
    "print ''\n",
    "meanDataDict={}\n",
    "print 'loading mean data files:'\n",
    "for meanDataFile in meanDataFiles:\n",
    "    entryName=meanDataFile.split('.')[0]\n",
    "    entryName=entryName+'.'+meanDataFile.split('.')[1].replace('mean','')\n",
    "    #the data files seem to be saved rotated and transposed relative to the X and Y\n",
    "    #coordinate grids.\n",
    "    meanDataDict[entryName]=np.rot90(np.rot90(np.loadtxt('/'.join([dataDir,meanDataFile])).T))\n",
    "    print '%-18s [%g x %g; value range=(%8f,%8f)]'%(\n",
    "            entryName,\n",
    "            meanDataDict[entryName].shape[0],meanDataDict[entryName].shape[1],\n",
    "            np.min(meanDataDict[entryName]),np.max(meanDataDict[entryName]))\n",
    "print ''\n",
    "print '---- ---- ---- ----'\n",
    "\n",
    "print 'System names:',\n",
    "systems=np.unique([entry.split('.')[0] for entry in meanDataDict.keys()])\n",
    "print systems\n",
    "print 'Mean Data Set types:',\n",
    "dataTypes=np.unique(\n",
    "    [entry.split('.')[1] \\\n",
    "     for entry in meanDataDict.keys()])\n",
    "print dataTypes\n",
    "\n",
    "print ''\n",
    "print '---- ---- ---- ----'\n",
    "print ''    \n",
    "    \n",
    "print 'loading X and Y grids:'\n",
    "gridDict={}\n",
    "for system in systems:\n",
    "    for gridType in ['gridX','gridY']:\n",
    "        gridName='.'.join([system,gridType])\n",
    "        gridFileName='.'.join([gridName,'npy'])\n",
    "        gridPath='/'.join([dataDir,gridFileName])\n",
    "        gridDict[gridName]=np.load(gridPath)\n",
    "        print '%-18s [%g x %g; coordinate range=(%8.3f,%8.3f)]'%(\n",
    "            gridName,\n",
    "            gridDict[gridName].shape[0],gridDict[gridName].shape[1],\n",
    "            np.min(gridDict[gridName]),np.max(gridDict[gridName]))\n",
    "print ''\n",
    "print '---- ---- ---- ----'\n",
    "print ''\n",
    "\n",
    "print 'Mean Data Dictionary Keys:',\n",
    "print np.sort(meanDataDict.keys())\n",
    "\n",
    "print 'Grid Dictionary Keys:',\n",
    "print np.sort(gridDict.keys())"
   ]
  },
  {
   "cell_type": "code",
   "execution_count": 4,
   "metadata": {},
   "outputs": [
    {
     "name": "stdout",
     "output_type": "stream",
     "text": [
      "mean data types: ['AverageDensity' 'LowerDensity' 'LowerHeight' 'Thickness' 'UpperDensity'\n",
      " 'UpperHeight']\n"
     ]
    }
   ],
   "source": [
    "for system in systems:\n",
    "    entryName='.'.join([system,'Thickness'])\n",
    "    meanDataDict[entryName]=meanDataDict['.'.join([system,'UpperHeight'])] - \\\n",
    "        meanDataDict['.'.join([system,'LowerHeight'])]\n",
    "    entryName='.'.join([system,'AverageDensity'])\n",
    "    meanDataDict[entryName]=(meanDataDict['.'.join([system,'UpperDensity'])] + \\\n",
    "        meanDataDict['.'.join([system,'LowerDensity'])])/2.0\n",
    "dataTypes=np.unique(\n",
    "    [entry.split('.')[1] \\\n",
    "     for entry in meanDataDict.keys()])\n",
    "print 'mean data types:',\n",
    "print np.sort(dataTypes)"
   ]
  },
  {
   "cell_type": "code",
   "execution_count": 108,
   "metadata": {},
   "outputs": [
    {
     "data": {
      "application/vnd.jupyter.widget-view+json": {
       "model_id": "4e6ccbcd562b4b6fad4e1c222190a2b9",
       "version_major": 2,
       "version_minor": 0
      },
      "text/plain": [
       "VkJveChjaGlsZHJlbj0oSEJveChjaGlsZHJlbj0oVG9nZ2xlQnV0dG9uKHZhbHVlPUZhbHNlLCBkZXNjcmlwdGlvbj11J1RvZ2dsZUNvbnRvdXInKSwgRmxvYXRMb2dTbGlkZXIodmFsdWU9MWXigKY=\n"
      ]
     },
     "metadata": {},
     "output_type": "display_data"
    },
    {
     "data": {
      "application/vnd.jupyter.widget-view+json": {
       "model_id": "f95bafc6120e42bb99666684227e7be7",
       "version_major": 2,
       "version_minor": 0
      },
      "text/plain": [
       "Output()"
      ]
     },
     "metadata": {},
     "output_type": "display_data"
    }
   ],
   "source": [
    "system1Menu=widgets.Dropdown(description=\"System 1\",options=systems)\n",
    "system2Menu=widgets.Dropdown(description=\"System 2\",options=systems)\n",
    "propertyMenu=widgets.Dropdown(description=\"Data Set\",options=dataTypes)\n",
    "contourToggleButton=widgets.ToggleButton(description=\"ToggleContour\")\n",
    "maskAlphaValue=widgets.FloatSlider(description=\"MaskOpacity\",\n",
    "                             min=0,max=1,step=.0005,value=1.0)\n",
    "densityContourValue=widgets.FloatLogSlider(description=\"ContourValue\",\n",
    "                                      min=-12,max=0.0,step=.25,value=1e-5)\n",
    "\n",
    "def renderDataGrid(\n",
    "        coordinateGrids,\n",
    "        dataGridName,dataGrid,\n",
    "        dataRange,ax):\n",
    "    dPlot=ax.pcolormesh(\n",
    "        coordinateGrids[0],coordinateGrids[1],\n",
    "        dataGrid,vmin=dataRange[0],vmax=dataRange[1])\n",
    "    ax.set_title(dataGridName)\n",
    "    return(dPlot)\n",
    "\n",
    "def renderDensityContour(\n",
    "        coordinateGrids,\n",
    "        densityGrid,\n",
    "        densityContourValue,\n",
    "        maskAlpha,ax):\n",
    "    cPlot=ax.contour(\n",
    "        coordinateGrids[0],coordinateGrids[1],\n",
    "        densityGrid,\n",
    "        levels=[0,densityContourValue],colors=['#ff00aa'])\n",
    "    cfPlot=ax.contourf(\n",
    "        coordinateGrids[0],coordinateGrids[1],\n",
    "        densityGrid,\n",
    "        levels=[0,densityContourValue],colors=['#000000'],\n",
    "        alpha=maskAlpha)\n",
    "    return(cPlot,cfPlot)\n",
    "\n",
    "def show_heatmap(system1,system2,propertyType,\n",
    "                 contourToggle,densityContourValue,\n",
    "                 maskAlphaValue):\n",
    "    print 'system1:%s'%system1\n",
    "    print 'system2:%s'%system2\n",
    "    print 'dataGridType:%s'%propertyType\n",
    "    print 'showDensityContour:%s'%contourToggle\n",
    "    print 'densityContourValue:%.3e'%densityContourValue\n",
    "    \n",
    "    #bounds: [[minX,maxX],[minY,maxY]\n",
    "    coordinateGridNames=tuple(\n",
    "        tuple('.'.join([system,gridType]) \\\n",
    "            for gridType in ['gridX','gridY']) \\\n",
    "        for system in [system1,system2])\n",
    "    print 'coordinate grids:',\n",
    "    print coordinateGridNames\n",
    "    coordinateGrids=tuple(\n",
    "        tuple(gridDict[coordinateGridName] for coordinateGridName in gridSet) \\\n",
    "        for gridSet in coordinateGridNames)\n",
    "    \n",
    "    dataGridNames=tuple('.'.join([system,propertyType]) \\\n",
    "                       for system in [system1,system2])\n",
    "    print 'data grids:',\n",
    "    print dataGridNames\n",
    "    dataGrids=tuple(meanDataDict[dataGridName] \\\n",
    "                     for dataGridName in dataGridNames)\n",
    "    dataRange=(np.min([np.min(dataGrid) \\\n",
    "                       for dataGrid in dataGrids]),\n",
    "               np.max([np.max(dataGrid) \\\n",
    "                       for dataGrid in dataGrids]))\n",
    "    print 'data range:',\n",
    "    print dataRange\n",
    "    \n",
    "    contourGridNames=tuple('.'.join([system,'AverageDensity']) \\\n",
    "                          for system in [system1,system2])\n",
    "    print 'contour grids:',\n",
    "    print contourGridNames\n",
    "    contourGrids=tuple(meanDataDict[contourGridName] \\\n",
    "                       for contourGridName in contourGridNames)\n",
    "    contourRange=(np.min([np.min(contourGrid) \\\n",
    "                          for contourGrid in contourGrids]),\n",
    "                  np.max([np.max(contourGrid) \\\n",
    "                          for contourGrid in contourGrids]))\n",
    "    print 'contour range:',\n",
    "    print contourRange\n",
    "    \n",
    "    \n",
    "    plotFig,plotAxs=plt.subplots(1,2)\n",
    "    plotFig.set_figwidth(12)\n",
    "    plotFig.set_figheight(5)\n",
    "    shrinkVal=1.0 #in case we need to resize colorbar\n",
    "    for iSys,system in enumerate([system1,system2]):\n",
    "        ax=plotAxs.flat[iSys]\n",
    "        dPlot=renderDataGrid(\n",
    "                coordinateGrids[iSys],\n",
    "                dataGridNames[iSys],\n",
    "                dataGrids[iSys],\n",
    "                dataRange,ax)\n",
    "        if contourToggle:\n",
    "            cPlot=renderDensityContour(\n",
    "                coordinateGrids[iSys],\n",
    "                contourGrids[iSys],\n",
    "                densityContourValue,\n",
    "                maskAlphaValue,ax)\n",
    "        plt.colorbar(dPlot,ax=ax,shrink=shrinkVal)\n",
    "    plt.tight_layout()\n",
    "    \n",
    "controlPannelDict={\n",
    "    'system1':system1Menu, 'system2':system2Menu,\n",
    "    'propertyType':propertyMenu,\n",
    "    'contourToggle':contourToggleButton,\n",
    "    'densityContourValue':densityContourValue,\n",
    "    'maskAlphaValue':maskAlphaValue}\n",
    "dispOut=interactive_output(show_heatmap,controlPannelDict)\n",
    "contourPannel=widgets.HBox([contourToggleButton,densityContourValue,maskAlphaValue])\n",
    "systemSelectPannel=widgets.HBox([system1Menu,system2Menu])\n",
    "controlPannel=widgets.VBox([contourPannel,propertyMenu,systemSelectPannel])\n",
    "display(controlPannel,dispOut)"
   ]
  },
  {
   "cell_type": "code",
   "execution_count": null,
   "metadata": {},
   "outputs": [],
   "source": []
  }
 ],
 "metadata": {
  "kernelspec": {
   "display_name": "Python 2",
   "language": "python",
   "name": "python2"
  },
  "language_info": {
   "codemirror_mode": {
    "name": "ipython",
    "version": 2
   },
   "file_extension": ".py",
   "mimetype": "text/x-python",
   "name": "python",
   "nbconvert_exporter": "python",
   "pygments_lexer": "ipython2",
   "version": "2.7.15"
  }
 },
 "nbformat": 4,
 "nbformat_minor": 2
}
