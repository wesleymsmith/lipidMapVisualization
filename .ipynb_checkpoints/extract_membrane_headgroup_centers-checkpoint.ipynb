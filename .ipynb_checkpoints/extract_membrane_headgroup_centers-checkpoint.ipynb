{
 "cells": [
  {
   "cell_type": "code",
   "execution_count": 2,
   "metadata": {},
   "outputs": [],
   "source": [
    "import pytraj as pt\n",
    "import pytraj.utils.progress\n",
    "import numpy as np\n",
    "import scipy as sp\n",
    "import matplotlib\n",
    "from matplotlib import pyplot as plt\n",
    "import collections\n",
    "import sys\n",
    "import gc\n",
    "import os\n",
    "import tqdm\n",
    "import nglview as nv\n",
    "import ipywidgets\n",
    "import copy\n",
    "\n",
    "from ipywidgets import interact, interactive, fixed, interact_manual\n",
    "import ipywidgets as widgets"
   ]
  },
  {
   "cell_type": "markdown",
   "metadata": {},
   "source": [
    "# Load trajectories into a joint dictionary"
   ]
  },
  {
   "cell_type": "code",
   "execution_count": 32,
   "metadata": {},
   "outputs": [
    {
     "data": {
      "application/vnd.jupyter.widget-view+json": {
       "model_id": "160f9c2b4981470c87d6a8d1d219efae",
       "version_major": 2,
       "version_minor": 0
      },
      "text/plain": [
       "HBox(children=(IntProgress(value=1, bar_style=u'info', max=1), HTML(value=u'')))"
      ]
     },
     "metadata": {},
     "output_type": "display_data"
    },
    {
     "name": "stdout",
     "output_type": "stream",
     "text": [
      "\n"
     ]
    },
    {
     "data": {
      "text/plain": [
       "{'PIP2': pytraj.TrajectoryIterator, 1592 frames: \n",
       " Size: 8.000000 (GB)\n",
       " <Topology: 243780 atoms, 5544 residues, 1302 mols, PBC with box type = ortho>\n",
       "            , 'POPC': pytraj.TrajectoryIterator, 2001 frames: \n",
       " Size: 10.000000 (GB)\n",
       " <Topology: 227880 atoms, 5430 residues, 1188 mols, PBC with box type = ortho>\n",
       "            , 'POPS': pytraj.TrajectoryIterator, 1592 frames: \n",
       " Size: 8.000000 (GB)\n",
       " <Topology: 241272 atoms, 5536 residues, 1294 mols, PBC with box type = ortho>\n",
       "            }"
      ]
     },
     "execution_count": 32,
     "metadata": {},
     "output_type": "execute_result"
    }
   ],
   "source": [
    "systems=['POPC','PIP2','POPS']\n",
    "trajFileName='memb_prot.dcd'\n",
    "topFileName='topology.memb_prot.nochamber.parm7'\n",
    "trajBaseDir='trajData'\n",
    "dataFileDir='dataFiles'\n",
    "\n",
    "trajDict={}\n",
    "with tqdm.tqdm_notebook() as pbar:\n",
    "    pbar.n=len(systems)\n",
    "    pbar.refresh()\n",
    "    for system in systems:\n",
    "        pbar.set_description_str('loading %s'%system)\n",
    "        trajDir='/'.join([trajBaseDir,system])\n",
    "        trajFilePath='/'.join([trajDir,trajFileName])\n",
    "        topFilePath='/'.join([trajDir,topFileName])\n",
    "        trajDict[system]=pt.iterload(trajFilePath,top=topFilePath)\n",
    "        pbar.update()\n",
    "\n",
    "trajDict"
   ]
  },
  {
   "cell_type": "markdown",
   "metadata": {},
   "source": [
    "# Setup lipid headgroup center calculation"
   ]
  },
  {
   "cell_type": "markdown",
   "metadata": {},
   "source": [
    "There are at most 2 components in each lipid simulation, POPC and up to one additional charged lipid. These charged lipids come last, so we can look at the last residue of each trajectory. Using NGLVIEW, we can quickly visualize the lipids to investigate the atom names and come up with the needed atom mask for use in pytraj."
   ]
  },
  {
   "cell_type": "code",
   "execution_count": 33,
   "metadata": {},
   "outputs": [
    {
     "name": "stdout",
     "output_type": "stream",
     "text": [
      "POPC\n",
      "POPS\n",
      "PIP2\n"
     ]
    }
   ],
   "source": [
    "ngViewDict={}\n",
    "for trajKey in trajDict:\n",
    "    print trajKey\n",
    "    ngViewDict[trajKey]=nv.show_pytraj(trajDict[trajKey])\n",
    "    ngViewDict[trajKey].clear_representations()\n",
    "    ngViewDict[trajKey].add_representation('licorice',selection='%g'%trajDict[trajKey].topology.n_residues)"
   ]
  },
  {
   "cell_type": "code",
   "execution_count": 30,
   "metadata": {},
   "outputs": [
    {
     "data": {
      "application/vnd.jupyter.widget-view+json": {
       "model_id": "48a35094fc24467b92a214fb185a77b1",
       "version_major": 2,
       "version_minor": 0
      },
      "text/plain": [
       "NGLWidget(count=2001)"
      ]
     },
     "metadata": {},
     "output_type": "display_data"
    }
   ],
   "source": [
    "ngViewDict['POPC']"
   ]
  },
  {
   "cell_type": "code",
   "execution_count": 31,
   "metadata": {},
   "outputs": [
    {
     "data": {
      "application/vnd.jupyter.widget-view+json": {
       "model_id": "031d24fac7044bf28c2930c6e4857235",
       "version_major": 2,
       "version_minor": 0
      },
      "text/plain": [
       "NGLWidget(count=1592)"
      ]
     },
     "metadata": {},
     "output_type": "display_data"
    }
   ],
   "source": [
    "ngViewDict['PIP2']"
   ]
  },
  {
   "cell_type": "code",
   "execution_count": 34,
   "metadata": {},
   "outputs": [
    {
     "data": {
      "application/vnd.jupyter.widget-view+json": {
       "model_id": "f0d238a538804fdc99b50e0798b9dbdf",
       "version_major": 2,
       "version_minor": 0
      },
      "text/plain": [
       "NGLWidget(count=1592)"
      ]
     },
     "metadata": {},
     "output_type": "display_data"
    }
   ],
   "source": [
    "ngViewDict['POPS']"
   ]
  },
  {
   "cell_type": "markdown",
   "metadata": {},
   "source": [
    "We note that the phosphate linker group as shown in the viewer pannels above is the same for all lipids we are working with. This makes a good choice for headgroup center coordinates. Lets compute the needed center of mass coordinates"
   ]
  },
  {
   "cell_type": "code",
   "execution_count": 41,
   "metadata": {},
   "outputs": [
    {
     "name": "stdout",
     "output_type": "stream",
     "text": [
      "--- POPC ---\n",
      "pytraj.TrajectoryIterator, 2001 frames: \n",
      "Size: 10.000000 (GB)\n",
      "<Topology: 227880 atoms, 5430 residues, 1188 mols, PBC with box type = ortho>\n",
      "           \n",
      "Computing headgroup centers\n"
     ]
    },
    {
     "data": {
      "application/vnd.jupyter.widget-view+json": {
       "model_id": "e19af4c9d77b4e55a8ac954dbe21dbc2",
       "version_major": 2,
       "version_minor": 0
      },
      "text/plain": [
       "HBox(children=(IntProgress(value=0, max=2001), HTML(value=u'')))"
      ]
     },
     "metadata": {},
     "output_type": "display_data"
    },
    {
     "name": "stdout",
     "output_type": "stream",
     "text": [
      "\n",
      "--- POPS ---\n",
      "pytraj.TrajectoryIterator, 1592 frames: \n",
      "Size: 8.000000 (GB)\n",
      "<Topology: 241272 atoms, 5536 residues, 1294 mols, PBC with box type = ortho>\n",
      "           \n",
      "Computing headgroup centers\n"
     ]
    },
    {
     "data": {
      "application/vnd.jupyter.widget-view+json": {
       "model_id": "42e13bafca1242ceb4c53c18205f095f",
       "version_major": 2,
       "version_minor": 0
      },
      "text/plain": [
       "HBox(children=(IntProgress(value=0, max=1592), HTML(value=u'')))"
      ]
     },
     "metadata": {},
     "output_type": "display_data"
    },
    {
     "name": "stdout",
     "output_type": "stream",
     "text": [
      "\n",
      "--- PIP2 ---\n",
      "pytraj.TrajectoryIterator, 1592 frames: \n",
      "Size: 8.000000 (GB)\n",
      "<Topology: 243780 atoms, 5544 residues, 1302 mols, PBC with box type = ortho>\n",
      "           \n",
      "Computing headgroup centers\n"
     ]
    },
    {
     "data": {
      "application/vnd.jupyter.widget-view+json": {
       "model_id": "e2450115a5c64184bdddcebd476bfe87",
       "version_major": 2,
       "version_minor": 0
      },
      "text/plain": [
       "HBox(children=(IntProgress(value=0, max=1592), HTML(value=u'')))"
      ]
     },
     "metadata": {},
     "output_type": "display_data"
    },
    {
     "name": "stdout",
     "output_type": "stream",
     "text": [
      "\n"
     ]
    },
    {
     "data": {
      "text/plain": [
       "{'PIP2': array([[[158.80795501, 163.60398941, 102.04238811],\n",
       "         [161.70295966, 164.75003812, 102.70277894],\n",
       "         [162.02592931, 164.7040303 , 105.42301153],\n",
       "         ...,\n",
       "         [169.42432859, 179.06665936, 102.01596918],\n",
       "         [168.93647262, 176.59928379, 102.01822497],\n",
       "         [168.67553989, 176.44350305, 101.55110012]],\n",
       " \n",
       "        [[ 26.7998961 , 166.67130667, 115.62012125],\n",
       "         [ 26.88017206, 167.92777029, 116.10853092],\n",
       "         [ 26.96510424, 166.47299445, 114.53795037],\n",
       "         ...,\n",
       "         [ 32.45077133, 141.06500285, 103.81752566],\n",
       "         [ 32.44769554, 141.51805088, 104.62883462],\n",
       "         [ 32.55496749, 141.20013276, 105.79062446]],\n",
       " \n",
       "        [[208.30535165,  50.78301659, 121.78023518],\n",
       "         [207.94849656,  50.32583826, 122.06760598],\n",
       "         [206.19372102,  48.60183835, 122.17740175],\n",
       "         ...,\n",
       "         [181.41097325,  56.88239062, 109.61539056],\n",
       "         [178.93938514,  55.43089415, 109.52019529],\n",
       "         [178.79314434,  55.91658588, 109.17982614]],\n",
       " \n",
       "        ...,\n",
       " \n",
       "        [[152.30067274, 205.62093135,  92.09509685],\n",
       "         [155.30950477, 206.18054219,  92.87470826],\n",
       "         [153.08642127, 207.39256095,  90.85853493],\n",
       "         ...,\n",
       "         [153.78749192, 212.350297  ,  78.50659387],\n",
       "         [153.47791181, 211.95071248,  79.2928385 ],\n",
       "         [154.51611569, 211.22317685,  78.55576185]],\n",
       " \n",
       "        [[141.9058809 , 128.17313706,  46.72999352],\n",
       "         [142.33232727, 130.46566937,  48.02258329],\n",
       "         [139.48808375, 130.01891234,  45.73781986],\n",
       "         ...,\n",
       "         [144.97762593, 139.45426193,  51.81939176],\n",
       "         [143.40333541, 139.45885685,  52.18215837],\n",
       "         [144.26109189, 139.54270516,  52.38751309]],\n",
       " \n",
       "        [[ 78.15551549, 117.66910886,  41.80602249],\n",
       "         [ 78.73949438, 118.58918168,  44.56544797],\n",
       "         [ 79.29199806, 119.04388386,  42.75524137],\n",
       "         ...,\n",
       "         [ 81.98170152, 121.13419855,  39.9002723 ],\n",
       "         [ 81.68279721, 120.93874894,  40.39271354],\n",
       "         [ 82.50421331, 121.08790903,  40.42687578]]]),\n",
       " 'POPC': array([[[175.92526853, 107.26068401, 116.07219356],\n",
       "         [180.00014632, 107.26283664, 117.76867111],\n",
       "         [179.18353734, 106.80791336, 116.94151985],\n",
       "         ...,\n",
       "         [160.21006752, 116.63193015, 100.82288856],\n",
       "         [161.14107986, 116.51315375,  99.5307193 ],\n",
       "         [158.51352744, 117.83871791, 100.66524965]],\n",
       " \n",
       "        [[172.64456347, 120.53817621, 110.09801014],\n",
       "         [174.28047637, 119.37656773, 113.64444265],\n",
       "         [174.83332481, 121.50446898, 112.06083244],\n",
       "         ...,\n",
       "         [209.91189013, 117.21081366, 113.61627547],\n",
       "         [209.89380409, 117.3044639 , 111.48370647],\n",
       "         [210.18015543, 117.28186209, 111.16294991]],\n",
       " \n",
       "        [[141.58276495, 135.7406374 ,  56.84068142],\n",
       "         [141.94549977, 136.64498742,  58.67258004],\n",
       "         [143.63158283, 133.00275109,  58.0051458 ],\n",
       "         ...,\n",
       "         [134.89599723, 145.10170296,  50.99209332],\n",
       "         [136.92753863, 145.71650146,  51.84146967],\n",
       "         [136.25762819, 145.2231417 ,  52.52653163]],\n",
       " \n",
       "        ...,\n",
       " \n",
       "        [[ 39.10147353,  19.05012224,  77.48677947],\n",
       "         [ 42.1188587 ,  19.28985554,  76.95891729],\n",
       "         [ 43.95559965,  19.37064252,  76.35555883],\n",
       "         ...,\n",
       "         [ 43.48786164,  21.07904021,  73.26036253],\n",
       "         [ 42.95166192,  19.46483128,  74.81219307],\n",
       "         [ 42.81381417,  22.67411799,  76.21970567]],\n",
       " \n",
       "        [[ 62.23555177, 160.78637927,  59.35601254],\n",
       "         [ 63.09281418, 160.73235522,  59.91603126],\n",
       "         [ 62.38811303, 159.73931002,  58.70544806],\n",
       "         ...,\n",
       "         [ 79.62815715, 161.96222463,  58.39475057],\n",
       "         [ 78.92115344, 161.16096338,  57.88859601],\n",
       "         [ 81.10307966, 159.92309698,  57.10482597]],\n",
       " \n",
       "        [[158.98353811, 202.90880896,  86.50113775],\n",
       "         [159.53480477, 204.21416774,  86.83875824],\n",
       "         [161.42709463, 204.63424552,  85.49009222],\n",
       "         ...,\n",
       "         [164.54063527, 205.52519178,  74.70636873],\n",
       "         [166.20454091, 205.06138451,  75.73225302],\n",
       "         [166.54640287, 203.79077548,  77.28808458]]]),\n",
       " 'POPS': array([[[ 58.18407002,  75.66487263, 104.04204594],\n",
       "         [ 55.84165716,  77.08118751, 105.78669567],\n",
       "         [ 56.50383818,  76.49366089, 104.89589265],\n",
       "         ...,\n",
       "         [ 31.79605805,  54.10460428, 105.68515004],\n",
       "         [ 30.62423531,  54.00386511, 108.62924355],\n",
       "         [ 27.29549019,  54.77255032, 109.20874383]],\n",
       " \n",
       "        [[ 81.88434042,  35.5635949 , 104.11873623],\n",
       "         [ 79.84663249,  37.7822238 , 100.18627758],\n",
       "         [ 81.68821871,  36.45433711,  99.25904661],\n",
       "         ...,\n",
       "         [ 89.71507547,  48.84383484,  93.11184124],\n",
       "         [ 92.35325308,  48.01740922,  92.33049317],\n",
       "         [ 91.41806011,  51.5035732 ,  93.06876751]],\n",
       " \n",
       "        [[111.80541999,  28.49289393, 114.95023074],\n",
       "         [115.62057815,  30.03094346, 114.12048452],\n",
       "         [112.45351887,  34.05260317, 113.30426556],\n",
       "         ...,\n",
       "         [142.24809229,  22.2707282 , 109.60898332],\n",
       "         [143.46324533,  20.96753081, 110.17371195],\n",
       "         [142.84067065,  22.3895364 , 109.00445631]],\n",
       " \n",
       "        ...,\n",
       " \n",
       "        [[198.46431877, 187.62184317,  83.39612358],\n",
       "         [199.09932291, 188.7591533 ,  86.62674663],\n",
       "         [204.18730284, 190.34490626,  85.81541272],\n",
       "         ...,\n",
       "         [ 17.56805467, 184.76367229,  58.19499205],\n",
       "         [ 16.74508576, 185.3689648 ,  58.55239849],\n",
       "         [ 18.63974747, 184.38747164,  57.00187163]],\n",
       " \n",
       "        [[165.81033991, 196.89160758,  97.66433981],\n",
       "         [166.99028636, 199.10109971, 101.97339702],\n",
       "         [167.30168649, 200.57468242, 101.26342035],\n",
       "         ...,\n",
       "         [177.30949149, 202.39266421,  70.7515767 ],\n",
       "         [174.82495429, 202.59152613,  71.1796424 ],\n",
       "         [175.31240382, 203.58435334,  70.44168715]],\n",
       " \n",
       "        [[ 78.13667551, 179.82511168,  63.4783132 ],\n",
       "         [ 76.28140862, 183.59078352,  63.55695374],\n",
       "         [ 75.53390242, 184.8052327 ,  60.99143621],\n",
       "         ...,\n",
       "         [ 71.43778742, 184.06584804,  55.1450981 ],\n",
       "         [ 73.74298049, 185.6779252 ,  55.51526261],\n",
       "         [ 73.86139227, 185.90539509,  56.67012187]]])}"
      ]
     },
     "execution_count": 41,
     "metadata": {},
     "output_type": "execute_result"
    }
   ],
   "source": [
    "headgroupAtoms='P,O11,O12,O13,O14'\n",
    "maskStr=':%g@%s'\n",
    "comDataDict={}\n",
    "for trajKey in trajDict:\n",
    "    tempTraj=trajDict[trajKey]\n",
    "    print '--- %s ---'%trajKey\n",
    "    print tempTraj\n",
    "    print 'Computing headgroup centers'\n",
    "    lipidResids=np.arange(4255,tempTraj.topology.n_residues+1)\n",
    "    commands=['vector center %s'%(maskStr%(resid,headgroupAtoms)) \\\n",
    "              for resid in lipidResids]\n",
    "    pbar=pt.utils.progress.ProgressBarTrajectory(tempTraj,style='tqdm')\n",
    "    comDataDict[trajKey]=np.array(pt.compute(commands,pbar).values())\n",
    "\n",
    "comDataDict"
   ]
  },
  {
   "cell_type": "markdown",
   "metadata": {},
   "source": [
    "These coordinate sets are quite large. In order to keep the file size to within the required 20Mb limit for github, we will need to save them in chunks. For instance, the coordinates for POPC end up taking about 54Mb to store as a single file. Numpy has functions 'array_split' and 'concatenate' that can help with this, though we still need to coordinate saving / loading each chunk into a different file. Below we define a pair of functions to do so. Lets have a look at the dimensions of one of those trajectories as well.\n",
    "By virtue of the way we calculated the coordinates, the second axis (axis=1) is actually the frame number, while the first axis is the lipid number. The last axis is the coordinate dimension."
   ]
  },
  {
   "cell_type": "code",
   "execution_count": 45,
   "metadata": {},
   "outputs": [
    {
     "name": "stdout",
     "output_type": "stream",
     "text": [
      "             (resid frame coord)\n",
      "POPC shape:  (1176, 2001, 3)\n",
      "POPS shape:  (1282, 1592, 3)\n",
      "PIP2 shape:  (1290, 1592, 3)\n"
     ]
    }
   ],
   "source": [
    "print \"             (resid frame coord)\"\n",
    "for trajKey in comDataDict:\n",
    "    print '%s shape: '%trajKey,\n",
    "    print comDataDict[trajKey].shape"
   ]
  },
  {
   "cell_type": "code",
   "execution_count": 46,
   "metadata": {},
   "outputs": [],
   "source": [
    "def saveArrayChunks(pathBase,arr,nChunks,axis=0,\n",
    "                    pbar=None):\n",
    "    \"\"\"\n",
    "        pathBase: the prefix of the file path to save each chunk to.\n",
    "                    files will be named pathBase.chunk_#.npy, where # is\n",
    "                    a zero padded integer (to make loading, sorting, etc easier)\n",
    "        arr: the array to be saved\n",
    "        axis: the axis along which to split the array ()\n",
    "    \"\"\"\n",
    "    arrayChunks=np.array_split(arr,nChunks,axis=axis)\n",
    "    ndigits=int(np.ceil(np.log10(nChunks)))\n",
    "    digitStr='%'+'0%g'%ndigits+'g'\n",
    "    if not pbar is None:\n",
    "        pbar.n=len(arrayChunks)\n",
    "        pbar.refresh()\n",
    "    for iChunk,arrayChunk in enumerate(arrayChunks):\n",
    "        outPath='.'.join([pathBase,'chunk_%s'%(digitStr%iChunk),'npy'])\n",
    "        np.save(outPath,arrayChunk)\n",
    "        if not pbar is None:\n",
    "            pbar.update()\n",
    "            \n",
    "def loadArrayChunks(pathBase,nChunks,axis=0,\n",
    "                    pbar=None):\n",
    "    arrayChunks=[]\n",
    "    ndigits=int(np.ceil(np.log10(nChunks)))\n",
    "    digitStr='%'+'0%g'%ndigits+'g'\n",
    "    if not pbar is None:\n",
    "        pbar.n=len(arrayChunks)\n",
    "        pbar.refresh()\n",
    "    for iChunk in np.arange(nChunks):\n",
    "        dataPath='.'.join([pathBase,'chunk_%s'%(digitStr%iChunk),'npy'])\n",
    "        arrayChunks.append(np.load(dataPath))\n",
    "        if not pbar is None:\n",
    "            pbar.update()\n",
    "    return np.concatenate(arrayChunks,axis=axis)"
   ]
  },
  {
   "cell_type": "markdown",
   "metadata": {},
   "source": [
    "We will save these trajectories into the 'dataFiles/headgroupCoords' directory in 4 chunks each."
   ]
  },
  {
   "cell_type": "code",
   "execution_count": 49,
   "metadata": {},
   "outputs": [
    {
     "data": {
      "application/vnd.jupyter.widget-view+json": {
       "model_id": "dd500ea0ea544a5eb3d2221f0d32312e",
       "version_major": 2,
       "version_minor": 0
      },
      "text/plain": [
       "HBox(children=(IntProgress(value=1, bar_style=u'info', max=1), HTML(value=u'')))"
      ]
     },
     "metadata": {},
     "output_type": "display_data"
    },
    {
     "name": "stdout",
     "output_type": "stream",
     "text": [
      "saving POPC center of mass data\n",
      "saving POPS center of mass data\n",
      "saving PIP2 center of mass data\n",
      "\n",
      "done\n"
     ]
    }
   ],
   "source": [
    "dataDir='dataFiles/headgroupCoords'\n",
    "with tqdm.tqdm_notebook() as pbar:\n",
    "    for coordKey in comDataDict:\n",
    "        print 'saving %s center of mass data'%coordKey\n",
    "        dataFileBase='/'.join([dataDir,\n",
    "                               '%s.headgroup_COM_coords'%coordKey])\n",
    "        saveArrayChunks(dataFileBase,comDataDict[coordKey],nChunks=4,axis=1,\n",
    "                        pbar=pbar)\n",
    "print 'done'"
   ]
  },
  {
   "cell_type": "markdown",
   "metadata": {},
   "source": [
    "Lets test loading them to make sure this worked correctly"
   ]
  },
  {
   "cell_type": "code",
   "execution_count": 51,
   "metadata": {},
   "outputs": [
    {
     "data": {
      "application/vnd.jupyter.widget-view+json": {
       "model_id": "948c63cff829489aad6ec6833329990f",
       "version_major": 2,
       "version_minor": 0
      },
      "text/plain": [
       "HBox(children=(IntProgress(value=1, bar_style=u'info', max=1), HTML(value=u'')))"
      ]
     },
     "metadata": {},
     "output_type": "display_data"
    },
    {
     "name": "stdout",
     "output_type": "stream",
     "text": [
      "\n",
      "Loaded data\n",
      "[[175.92526853 107.26068401 116.07219356]\n",
      " [172.64456347 120.53817621 110.09801014]\n",
      " [141.58276495 135.7406374   56.84068142]\n",
      " [175.62751097 200.4206751  126.43119004]]\n",
      "---\n",
      "Original data\n",
      "[[175.92526853 107.26068401 116.07219356]\n",
      " [172.64456347 120.53817621 110.09801014]\n",
      " [141.58276495 135.7406374   56.84068142]\n",
      " [175.62751097 200.4206751  126.43119004]]\n"
     ]
    }
   ],
   "source": [
    "with tqdm.tqdm_notebook() as pbar:\n",
    "    tempCOMdata=loadArrayChunks(\n",
    "        'dataFiles/headgroupCoords/POPC.headgroup_COM_coords',\n",
    "        nChunks=4,axis=1,pbar=pbar)\n",
    "\n",
    "print 'Loaded data'\n",
    "print tempCOMdata[:4,0,:]\n",
    "print '---'\n",
    "print 'Original data'\n",
    "print comDataDict['POPC'][:4,0,:]"
   ]
  },
  {
   "cell_type": "markdown",
   "metadata": {},
   "source": [
    "We now have the center of mass coordinates of each lipid saved in nice manageable chunks."
   ]
  },
  {
   "cell_type": "code",
   "execution_count": null,
   "metadata": {},
   "outputs": [],
   "source": []
  }
 ],
 "metadata": {
  "kernelspec": {
   "display_name": "Python 2",
   "language": "python",
   "name": "python2"
  },
  "language_info": {
   "codemirror_mode": {
    "name": "ipython",
    "version": 2
   },
   "file_extension": ".py",
   "mimetype": "text/x-python",
   "name": "python",
   "nbconvert_exporter": "python",
   "pygments_lexer": "ipython2",
   "version": "2.7.16"
  }
 },
 "nbformat": 4,
 "nbformat_minor": 2
}
