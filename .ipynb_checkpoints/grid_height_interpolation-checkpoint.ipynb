{
 "cells": [
  {
   "cell_type": "markdown",
   "metadata": {},
   "source": [
    "## Google Colab specific initialization cell\n",
    "#For those users running this on google colab, this cell can be\n",
    "#turned into a code cell and run. It will have colab install needed packages and,\n",
    "#most importantly, it will clone the 'dataFiles' folder of this repository\n",
    "#so that you can access it here.\n",
    "#Use ctrl+m+y to convert to code cell in google colab\n",
    "\n",
    "!git clone https://github.com/wesleymsmith/lipidMapVisualization.git\n",
    "!ln -s lipidMapVisualization/dataFiles ./dataFiles"
   ]
  },
  {
   "cell_type": "code",
   "execution_count": 1,
   "metadata": {},
   "outputs": [],
   "source": [
    "import numpy as np\n",
    "import scipy as sp\n",
    "import matplotlib\n",
    "from matplotlib import pyplot as plt\n",
    "import collections\n",
    "import sys\n",
    "import gc\n",
    "import os\n",
    "import sklearn as skl\n",
    "from sklearn import decomposition\n",
    "from sklearn import metrics\n",
    "from sklearn import discriminant_analysis\n",
    "from sklearn import cluster\n",
    "import tqdm\n",
    "import ipywidgets\n",
    "import copy\n",
    "\n",
    "from ipywidgets import interact, interactive, fixed, interact_manual, interactive_output\n",
    "import ipywidgets as widgets"
   ]
  },
  {
   "cell_type": "code",
   "execution_count": 2,
   "metadata": {},
   "outputs": [],
   "source": [
    "def saveArrayChunks(pathBase,arr,nChunks,axis=0,\n",
    "                    pbar=None):\n",
    "    \"\"\"\n",
    "        pathBase: the prefix of the file path to save each chunk to.\n",
    "                    files will be named pathBase.chunk_#.npy, where # is\n",
    "                    a zero padded integer (to make loading, sorting, etc easier)\n",
    "        arr: the array to be saved\n",
    "        axis: the axis along which to split the array ()\n",
    "    \"\"\"\n",
    "    arrayChunks=np.array_split(arr,nChunks,axis=axis)\n",
    "    ndigits=int(np.ceil(np.log10(nChunks)))\n",
    "    digitStr='%'+'0%g'%ndigits+'g'\n",
    "    if not pbar is None:\n",
    "        pbar.n=len(arrayChunks)\n",
    "        pbar.refresh()\n",
    "        pbar.clear()\n",
    "    for iChunk,arrayChunk in enumerate(arrayChunks):\n",
    "        outPath='.'.join([pathBase,'chunk_%s'%(digitStr%iChunk),'npy'])\n",
    "        np.save(outPath,arrayChunk)\n",
    "        if not pbar is None:\n",
    "            pbar.update()\n",
    "            \n",
    "def loadArrayChunks(pathBase,nChunks,axis=0,\n",
    "                    pbar=None):\n",
    "    arrayChunks=[]\n",
    "    ndigits=int(np.ceil(np.log10(nChunks)))\n",
    "    digitStr='%'+'0%g'%ndigits+'g'\n",
    "    if not pbar is None:\n",
    "        pbar.n=len(arrayChunks)\n",
    "        pbar.refresh()\n",
    "    for iChunk in np.arange(nChunks):\n",
    "        dataPath='.'.join([pathBase,'chunk_%s'%(digitStr%iChunk),'npy'])\n",
    "        arrayChunks.append(np.load(dataPath))\n",
    "        if not pbar is None:\n",
    "            pbar.update()\n",
    "    return np.concatenate(arrayChunks,axis=axis)"
   ]
  },
  {
   "cell_type": "code",
   "execution_count": 3,
   "metadata": {},
   "outputs": [
    {
     "name": "stdout",
     "output_type": "stream",
     "text": [
      "Loading data sets "
     ]
    },
    {
     "data": {
      "application/vnd.jupyter.widget-view+json": {
       "model_id": "ab3e625e06e047a28d9acf2857dfa2d5",
       "version_major": 2,
       "version_minor": 0
      },
      "text/plain": [
       "HBox(children=(IntProgress(value=1, bar_style=u'info', max=1), HTML(value=u'')))"
      ]
     },
     "metadata": {},
     "output_type": "display_data"
    },
    {
     "name": "stdout",
     "output_type": "stream",
     "text": [
      " POPC POPS PIP2 \n",
      "\n",
      "done loading data\n",
      "--- --- --- ---\n",
      "POPC (1176, 2001, 3)\n",
      "POPS (1282, 1592, 3)\n",
      "PIP2 (1290, 1592, 3)\n"
     ]
    }
   ],
   "source": [
    "dataFileDir='dataFiles'\n",
    "comDataDir='/'.join([dataFileDir,'headgroupCoords'])\n",
    "leafletClusteringDir='/'.join([dataFileDir,'leafletClustering'])\n",
    "\n",
    "comFileTypeName='headgroup_COM_coords'\n",
    "\n",
    "systems=['POPC','POPS','PIP2']\n",
    "\n",
    "nChunks=4\n",
    "\n",
    "comDataDict={}\n",
    "print 'Loading data sets ',\n",
    "with tqdm.tqdm_notebook() as pbar:\n",
    "    for system in systems:\n",
    "        print system,\n",
    "        pbar.set_description_str(system)\n",
    "        comFileNameBase='.'.join([system,comFileTypeName])\n",
    "        comFilePathBase='/'.join([comDataDir,comFileNameBase])\n",
    "        comDataDict[system]=loadArrayChunks(comFilePathBase,nChunks=nChunks,axis=1,\n",
    "                                            pbar=pbar)\n",
    "        gc.collect()\n",
    "    print ''\n",
    "print 'done loading data'\n",
    "print '--- --- --- ---'\n",
    "\n",
    "for setKey in comDataDict:\n",
    "    print setKey,\n",
    "    print comDataDict[setKey].shape"
   ]
  },
  {
   "cell_type": "code",
   "execution_count": 4,
   "metadata": {},
   "outputs": [
    {
     "name": "stdout",
     "output_type": "stream",
     "text": [
      "Loading clustering data sets "
     ]
    },
    {
     "data": {
      "application/vnd.jupyter.widget-view+json": {
       "model_id": "00506817bc264c6cb4a62423c4343d14",
       "version_major": 2,
       "version_minor": 0
      },
      "text/plain": [
       "HBox(children=(IntProgress(value=1, bar_style=u'info', max=1), HTML(value=u'')))"
      ]
     },
     "metadata": {},
     "output_type": "display_data"
    },
    {
     "name": "stdout",
     "output_type": "stream",
     "text": [
      " POPC PIP2 POPS \n",
      "\n",
      "done loading data\n",
      "--- --- --- ---\n",
      "POPC (2001, 1176)\n",
      "POPS (1592, 1282)\n",
      "PIP2 (1592, 1290)\n"
     ]
    }
   ],
   "source": [
    "clusterDataDir='dataFiles/leafletClustering/'\n",
    "clusterFileTypeName='leaflet_clustering_array'\n",
    "\n",
    "systems=['POPC','PIP2','POPS']\n",
    "\n",
    "nChunks=3\n",
    "\n",
    "clusterDataDict={}\n",
    "print 'Loading clustering data sets ',\n",
    "with tqdm.tqdm_notebook() as pbar:\n",
    "    for system in systems:\n",
    "        print system,\n",
    "        pbar.set_description_str(system)\n",
    "        clusterFileNameBase='.'.join([system,clusterFileTypeName])\n",
    "        clusterFilePathBase='/'.join([clusterDataDir,clusterFileNameBase])\n",
    "        clusterDataDict[system]=loadArrayChunks(clusterFilePathBase,nChunks=nChunks,axis=0,\n",
    "                                            pbar=pbar)\n",
    "        gc.collect()\n",
    "    print ''\n",
    "print 'done loading data'\n",
    "print '--- --- --- ---'\n",
    "\n",
    "for setKey in clusterDataDict:\n",
    "    print setKey,\n",
    "    print clusterDataDict[setKey].shape"
   ]
  },
  {
   "cell_type": "code",
   "execution_count": 5,
   "metadata": {},
   "outputs": [
    {
     "name": "stdout",
     "output_type": "stream",
     "text": [
      "--- POPC ---\n",
      "POPC Grid shape:  (230, 229)\n",
      "POPC Grid Bounds:  [[ -7.08916131  -5.28010502]\n",
      " [220.81656324 222.76967284]]\n",
      "saving to disk...\n",
      "--- POPS ---\n",
      "POPS Grid shape:  (232, 233)\n",
      "POPS Grid Bounds:  [[ -7.18940158  -4.86527905]\n",
      " [224.4948777  225.75348258]]\n",
      "saving to disk...\n",
      "--- PIP2 ---\n",
      "PIP2 Grid shape:  (235, 233)\n",
      "PIP2 Grid Bounds:  [[ -2.96129944  -3.34464858]\n",
      " [229.03306636 229.90644927]]\n",
      "saving to disk...\n"
     ]
    }
   ],
   "source": [
    "#Compute an XY grid for each system and save it to disk.\n",
    "#only needs to be run once unless new systems are being analyzed.\n",
    "outDir=dataFileDir\n",
    "gridSpacing=1.0 #1 Å grid\n",
    "for system in comDataDict:\n",
    "    print '--- %s ---'%system\n",
    "    comData=comDataDict[system]\n",
    "    gridBounds=np.array([\n",
    "            [np.min(comData[:,0]),np.min(comData[:,1])],\n",
    "            [np.max(comData[:,0]),np.max(comData[:,1])]])\n",
    "    centerX=np.mean(gridBounds[:,0])\n",
    "    centerY=np.mean(gridBounds[:,1])\n",
    "    nX=int(np.ceil((gridBounds[1,0]-gridBounds[0,0])/gridSpacing))+1\n",
    "    nY=int(np.ceil((gridBounds[1,1]-gridBounds[0,1])/gridSpacing))+1\n",
    "    pointsX=np.linspace(centerX-(nX-1)*gridSpacing/2,\n",
    "                        centerX+(nX-1)*gridSpacing/2,\n",
    "                        nX)\n",
    "    pointsY=np.linspace(centerY-(nY-1)*gridSpacing/2,\n",
    "                        centerY+(nY-1)*gridSpacing/2,\n",
    "                        nY)\n",
    "    gridX,gridY=np.meshgrid(pointsX,pointsY)\n",
    "    print '%s Grid shape: '%system,\n",
    "    print gridX.shape\n",
    "    print '%s Grid Bounds: '%system,\n",
    "    print gridBounds\n",
    "    print 'saving to disk...'\n",
    "    outFileName='.'.join([system,'gridX.npy'])\n",
    "    outFilePath='/'.join([outDir,outFileName])\n",
    "    np.save(outFilePath,arr=gridX)\n",
    "    outFileName='.'.join([system,'gridY.npy'])\n",
    "    outFilePath='/'.join([outDir,outFileName])\n",
    "    np.save(outFilePath,arr=gridY)"
   ]
  },
  {
   "cell_type": "code",
   "execution_count": 6,
   "metadata": {},
   "outputs": [
    {
     "name": "stdout",
     "output_type": "stream",
     "text": [
      "--- POPC ---\n",
      "POPC Grid shape:  (230, 229)\n",
      "POPC Grid Bounds:  [[-7.136299035217178, -5.755216087030789], [220.86370096478282, 223.2447839129692]]\n",
      "--- POPS ---\n",
      "POPS Grid shape:  (232, 233)\n",
      "POPS Grid Bounds:  [[-7.34726194302722, -5.0558982344096535], [224.6527380569728, 225.94410176559035]]\n",
      "--- PIP2 ---\n",
      "PIP2 Grid shape:  (235, 233)\n",
      "PIP2 Grid Bounds:  [[-2.9641165389713535, -3.7190996543211696], [229.03588346102865, 230.28090034567884]]\n"
     ]
    }
   ],
   "source": [
    "gridXdict={}\n",
    "gridYdict={}\n",
    "gridBoundsDict={}\n",
    "for system in comDataDict:\n",
    "    print '--- %s ---'%system\n",
    "    gridXfileName='.'.join([system,'gridX.npy'])\n",
    "    gridXfilePath='/'.join([dataFileDir,gridXfileName])\n",
    "    gridXdict[system]=np.load(gridXfilePath)\n",
    "    gridYfileName='.'.join([system,'gridY.npy'])\n",
    "    gridYfilePath='/'.join([dataFileDir,gridYfileName])\n",
    "    gridYdict[system]=np.load(gridYfilePath)\n",
    "    print '%s Grid shape: '%system,\n",
    "    print gridXdict[system].shape\n",
    "    gridBoundsDict[system]=[\n",
    "        [np.min(gridXdict[system]),np.min(gridYdict[system])],\n",
    "        [np.max(gridXdict[system]),np.max(gridYdict[system])]\n",
    "    ]\n",
    "    print '%s Grid Bounds: '%system,\n",
    "    print gridBoundsDict[system]"
   ]
  },
  {
   "cell_type": "code",
   "execution_count": null,
   "metadata": {},
   "outputs": [],
   "source": []
  }
 ],
 "metadata": {
  "kernelspec": {
   "display_name": "Python 2",
   "language": "python",
   "name": "python2"
  },
  "language_info": {
   "codemirror_mode": {
    "name": "ipython",
    "version": 2
   },
   "file_extension": ".py",
   "mimetype": "text/x-python",
   "name": "python",
   "nbconvert_exporter": "python",
   "pygments_lexer": "ipython2",
   "version": "2.7.16"
  }
 },
 "nbformat": 4,
 "nbformat_minor": 2
}
